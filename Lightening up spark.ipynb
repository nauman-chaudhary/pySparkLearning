{
 "cells": [
  {
   "cell_type": "markdown",
   "metadata": {},
   "source": [
    "# Lightening up the Spark"
   ]
  },
  {
   "cell_type": "markdown",
   "metadata": {},
   "source": [
    "1. Download Spark from (https://spark.apache.org/downloads.html).\n",
    "2. Use default option for download i.e. Spark 2.4.0 and Prebuit for apache hadoop 2.7 or higher\n",
    "3. Downloaded file would be a tgz file.\n",
    "4. Unzip it in the directory usr/local/"
   ]
  },
  {
   "cell_type": "markdown",
   "metadata": {},
   "source": [
    "###### Make a softlink to the actual spark directory (This will be helpful for any version upgrade in future)"
   ]
  },
  {
   "cell_type": "markdown",
   "metadata": {},
   "source": [
    "5. ln -s spark-2.4.0 spark"
   ]
  },
  {
   "cell_type": "markdown",
   "metadata": {},
   "source": [
    "Note: Use the name of the folder that was created after unzipping in the above command! In my case it was spark-2.4.0"
   ]
  },
  {
   "cell_type": "markdown",
   "metadata": {},
   "source": [
    "### To set python command to call python3"
   ]
  },
  {
   "cell_type": "markdown",
   "metadata": {},
   "source": [
    "Setting python3 as default python! (Optional step, depends on your preference)"
   ]
  },
  {
   "cell_type": "raw",
   "metadata": {},
   "source": [
    "alias python=python3"
   ]
  },
  {
   "cell_type": "markdown",
   "metadata": {},
   "source": [
    "6. ### Setting Environment Variables"
   ]
  },
  {
   "cell_type": "markdown",
   "metadata": {},
   "source": [
    "#### There are multiple ways to set environment variables! Try anyone that works!"
   ]
  },
  {
   "cell_type": "markdown",
   "metadata": {},
   "source": [
    "#### a) Using findspark"
   ]
  },
  {
   "cell_type": "markdown",
   "metadata": {},
   "source": [
    "There is a more generalized way to use PySpark in a Jupyter Notebook or any of your preferred IDE: use findSpark package to make a Spark Context available in your code."
   ]
  },
  {
   "cell_type": "markdown",
   "metadata": {},
   "source": [
    "To install findspark(https://github.com/minrk/findspark):"
   ]
  },
  {
   "cell_type": "raw",
   "metadata": {},
   "source": [
    "# use $ at start if running in Jupyter notebook\n",
    "pip install findspark"
   ]
  },
  {
   "cell_type": "markdown",
   "metadata": {},
   "source": [
    "Launch a regular Jupyter Notebook and use following lines of code to setup Spark"
   ]
  },
  {
   "cell_type": "raw",
   "metadata": {},
   "source": [
    "import findspark\n",
    "findspark.init()"
   ]
  },
  {
   "cell_type": "markdown",
   "metadata": {},
   "source": [
    "You can even use it to setup the environment variables in the .bashrc<br>\n",
    "For this, set edit_rc optional variable to True"
   ]
  },
  {
   "cell_type": "raw",
   "metadata": {},
   "source": [
    "findspark.init(edit_rc=True)"
   ]
  },
  {
   "cell_type": "markdown",
   "metadata": {},
   "source": [
    "#### b) Manually setting environment variables"
   ]
  },
  {
   "cell_type": "markdown",
   "metadata": {},
   "source": [
    "Add following lines to .bashrc file located at home (For Ubuntu)"
   ]
  },
  {
   "cell_type": "raw",
   "metadata": {},
   "source": [
    "#Source: https://www.tutorialspoint.com/pyspark/pyspark_environment_setup.htm\n",
    "export SPARK_HOME=/usr/local/spark\n",
    "export PATH=$PATH:/$SPARK_HOME/bin\n",
    "export PYTHONPATH=$SPARK_HOME/python:$SPARK_HOME/python/lib/py4j-0.10.4-src.zip:$PYTHONPATH\n",
    "export PATH=$SPARK_HOME/python:$PATH"
   ]
  },
  {
   "cell_type": "markdown",
   "metadata": {},
   "source": [
    "To make it work with juputer notebook, we can even set variables such that pyspark commands open up a jupyter notebook!"
   ]
  },
  {
   "cell_type": "raw",
   "metadata": {},
   "source": [
    "# Sources: \n",
    "# https://stackoverflow.com/questions/30518362/how-do-i-set-the-drivers-python-version-in-spark\n",
    "# https://blog.sicara.com/get-started-pyspark-jupyter-guide-tutorial-ae2fe84f594f\n",
    "\n",
    "# For using PySpark in Jupyter Notebook(Running Pyspark command on terminal will automatically run jupyter too)\n",
    "export PYSPARK_DRIVER_PYTHON=jupyter\n",
    "export PYSPARK_DRIVER_PYTHON_OPTS='notebook'"
   ]
  },
  {
   "cell_type": "markdown",
   "metadata": {},
   "source": [
    "Add following lines to .bashrc if you want to set python3 as default python that PySpark useses."
   ]
  },
  {
   "cell_type": "raw",
   "metadata": {},
   "source": [
    "# for using python3 in spark\n",
    "export PYSPARK_PYTHON=/usr/bin/python3"
   ]
  },
  {
   "cell_type": "markdown",
   "metadata": {},
   "source": [
    "##### Thank you."
   ]
  }
 ],
 "metadata": {
  "kernelspec": {
   "display_name": "Python 3",
   "language": "python",
   "name": "python3"
  },
  "language_info": {
   "codemirror_mode": {
    "name": "ipython",
    "version": 3
   },
   "file_extension": ".py",
   "mimetype": "text/x-python",
   "name": "python",
   "nbconvert_exporter": "python",
   "pygments_lexer": "ipython3",
   "version": "3.6.7"
  }
 },
 "nbformat": 4,
 "nbformat_minor": 2
}
