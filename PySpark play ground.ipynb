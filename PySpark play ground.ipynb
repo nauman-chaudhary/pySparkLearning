{
 "cells": [
  {
   "cell_type": "markdown",
   "metadata": {},
   "source": [
    "### Rdds"
   ]
  },
  {
   "cell_type": "code",
   "execution_count": 1,
   "metadata": {},
   "outputs": [],
   "source": [
    "# import findspark\n",
    "# findspark.init()"
   ]
  },
  {
   "cell_type": "code",
   "execution_count": 3,
   "metadata": {},
   "outputs": [],
   "source": [
    "# # import pyspark\n",
    "# import random\n",
    "# sc = pyspark.SparkContext(appName=\"Pi\")\n",
    "# num_samples = 100000000\n",
    "# def inside(p):     \n",
    "#   x, y = random.random(), random.random()\n",
    "#   return x*x + y*y < 1\n",
    "# count = sc.parallelize(range(0, num_samples)).filter(inside).count()\n",
    "# pi = 4 * count / num_samples\n",
    "# print(pi)\n",
    "# sc.stop()"
   ]
  },
  {
   "cell_type": "code",
   "execution_count": 27,
   "metadata": {},
   "outputs": [],
   "source": [
    "rdd = sc.textFile('file.txt')"
   ]
  },
  {
   "cell_type": "code",
   "execution_count": 30,
   "metadata": {},
   "outputs": [
    {
     "data": {
      "text/plain": [
       "[\"As its name states, EETS was begun as a 'club', and it retains certain features of that even now. It has no physical location, or even office, no paid staff or editors, but books in the Original Series are published in the first place to satisfy subscriptions paid by individuals or institutions. This means that there is need for a regular sequence of new editions, normally one or two per year; achieving that sequence can pose problems for the Editorial Secretary, who may have too few or too many texts ready for publication at any one time. Details on a separate sheet explain how individual (but not institutional) members can choose to take certain back volumes in place of the newly published volumes against their subscriptions. On the same sheet are given details about the very advantageous discount available to individual members on all back numbers. In 1970 a Supplementary Series was begun, a series which only appears occasionally (it currently has 24 volumes within it); some of these are new editions of texts earlier appearing in the main series. Again these volumes are available at publication and later at a substantial discount to members. All these advantages can only be obtained through the Membership Secretary (the books are sent by post); they are not available through bookshops, and such bookstores as carry EETS books have only a very limited selection of the many published.\",\n",
       " '']"
      ]
     },
     "execution_count": 30,
     "metadata": {},
     "output_type": "execute_result"
    }
   ],
   "source": [
    "rdd.take(2)"
   ]
  },
  {
   "cell_type": "code",
   "execution_count": 57,
   "metadata": {},
   "outputs": [],
   "source": [
    "def upper_foo(line):\n",
    "    line = line.upper()\n",
    "    line = line.split()\n",
    "    return line"
   ]
  },
  {
   "cell_type": "code",
   "execution_count": 58,
   "metadata": {},
   "outputs": [],
   "source": [
    "rdd_1 = rdd.map(upper_foo)"
   ]
  },
  {
   "cell_type": "code",
   "execution_count": 64,
   "metadata": {},
   "outputs": [
    {
     "name": "stdout",
     "output_type": "stream",
     "text": [
      "[['AS', 'ITS', 'NAME', 'STATES,', 'EETS', 'WAS', 'BEGUN', 'AS', 'A', \"'CLUB',\", 'AND', 'IT', 'RETAINS', 'CERTAIN', 'FEATURES', 'OF', 'THAT', 'EVEN', 'NOW.', 'IT', 'HAS', 'NO', 'PHYSICAL', 'LOCATION,', 'OR', 'EVEN', 'OFFICE,', 'NO', 'PAID', 'STAFF', 'OR', 'EDITORS,', 'BUT', 'BOOKS', 'IN', 'THE', 'ORIGINAL', 'SERIES', 'ARE', 'PUBLISHED', 'IN', 'THE', 'FIRST', 'PLACE', 'TO', 'SATISFY', 'SUBSCRIPTIONS', 'PAID', 'BY', 'INDIVIDUALS', 'OR', 'INSTITUTIONS.', 'THIS', 'MEANS', 'THAT', 'THERE', 'IS', 'NEED', 'FOR', 'A', 'REGULAR', 'SEQUENCE', 'OF', 'NEW', 'EDITIONS,', 'NORMALLY', 'ONE', 'OR', 'TWO', 'PER', 'YEAR;', 'ACHIEVING', 'THAT', 'SEQUENCE', 'CAN', 'POSE', 'PROBLEMS', 'FOR', 'THE', 'EDITORIAL', 'SECRETARY,', 'WHO', 'MAY', 'HAVE', 'TOO', 'FEW', 'OR', 'TOO', 'MANY', 'TEXTS', 'READY', 'FOR', 'PUBLICATION', 'AT', 'ANY', 'ONE', 'TIME.', 'DETAILS', 'ON', 'A', 'SEPARATE', 'SHEET', 'EXPLAIN', 'HOW', 'INDIVIDUAL', '(BUT', 'NOT', 'INSTITUTIONAL)', 'MEMBERS', 'CAN', 'CHOOSE', 'TO', 'TAKE', 'CERTAIN', 'BACK', 'VOLUMES', 'IN', 'PLACE', 'OF', 'THE', 'NEWLY', 'PUBLISHED', 'VOLUMES', 'AGAINST', 'THEIR', 'SUBSCRIPTIONS.', 'ON', 'THE', 'SAME', 'SHEET', 'ARE', 'GIVEN', 'DETAILS', 'ABOUT', 'THE', 'VERY', 'ADVANTAGEOUS', 'DISCOUNT', 'AVAILABLE', 'TO', 'INDIVIDUAL', 'MEMBERS', 'ON', 'ALL', 'BACK', 'NUMBERS.', 'IN', '1970', 'A', 'SUPPLEMENTARY', 'SERIES', 'WAS', 'BEGUN,', 'A', 'SERIES', 'WHICH', 'ONLY', 'APPEARS', 'OCCASIONALLY', '(IT', 'CURRENTLY', 'HAS', '24', 'VOLUMES', 'WITHIN', 'IT);', 'SOME', 'OF', 'THESE', 'ARE', 'NEW', 'EDITIONS', 'OF', 'TEXTS', 'EARLIER', 'APPEARING', 'IN', 'THE', 'MAIN', 'SERIES.', 'AGAIN', 'THESE', 'VOLUMES', 'ARE', 'AVAILABLE', 'AT', 'PUBLICATION', 'AND', 'LATER', 'AT', 'A', 'SUBSTANTIAL', 'DISCOUNT', 'TO', 'MEMBERS.', 'ALL', 'THESE', 'ADVANTAGES', 'CAN', 'ONLY', 'BE', 'OBTAINED', 'THROUGH', 'THE', 'MEMBERSHIP', 'SECRETARY', '(THE', 'BOOKS', 'ARE', 'SENT', 'BY', 'POST);', 'THEY', 'ARE', 'NOT', 'AVAILABLE', 'THROUGH', 'BOOKSHOPS,', 'AND', 'SUCH', 'BOOKSTORES', 'AS', 'CARRY', 'EETS', 'BOOKS', 'HAVE', 'ONLY', 'A', 'VERY', 'LIMITED', 'SELECTION', 'OF', 'THE', 'MANY', 'PUBLISHED.'], []]\n"
     ]
    }
   ],
   "source": [
    "print(rdd_1.take(2))"
   ]
  },
  {
   "cell_type": "code",
   "execution_count": null,
   "metadata": {},
   "outputs": [],
   "source": []
  },
  {
   "cell_type": "code",
   "execution_count": null,
   "metadata": {},
   "outputs": [],
   "source": []
  },
  {
   "cell_type": "code",
   "execution_count": 65,
   "metadata": {},
   "outputs": [
    {
     "data": {
      "text/plain": [
       "['AS', 'ITS']"
      ]
     },
     "execution_count": 65,
     "metadata": {},
     "output_type": "execute_result"
    }
   ],
   "source": [
    "rdd_2 = rdd.flatMap(upper_foo)\n",
    "rdd_2.take(2)"
   ]
  },
  {
   "cell_type": "code",
   "execution_count": null,
   "metadata": {},
   "outputs": [],
   "source": []
  },
  {
   "cell_type": "code",
   "execution_count": 67,
   "metadata": {},
   "outputs": [],
   "source": [
    "those_words = ['guide', 'at', 'a', 'A', 'POPULAR', 'AS']"
   ]
  },
  {
   "cell_type": "code",
   "execution_count": 74,
   "metadata": {},
   "outputs": [
    {
     "data": {
      "text/plain": [
       "['ITS', 'NAME', 'STATES,', 'EETS', 'WAS']"
      ]
     },
     "execution_count": 74,
     "metadata": {},
     "output_type": "execute_result"
    }
   ],
   "source": [
    "rdd_3 = rdd_2.filter(lambda x:x not in those_words)\n",
    "rdd_3.take(5)"
   ]
  },
  {
   "cell_type": "code",
   "execution_count": 91,
   "metadata": {},
   "outputs": [],
   "source": [
    "rdd_4 = rdd_3.groupBy(lambda x: x[0:2])"
   ]
  },
  {
   "cell_type": "code",
   "execution_count": 92,
   "metadata": {},
   "outputs": [
    {
     "name": "stdout",
     "output_type": "stream",
     "text": [
      "[('NA', ['NAME', 'NATUM']), ('ST', ['STATES,', 'STAFF', 'STYLESHEET', 'STUDENTS.', 'STILL', 'STARTED,', 'STUDY']), ('EE', ['EETS', 'EETS', 'EETS', 'EETS.', 'EETS,', 'EETS'])]\n"
     ]
    }
   ],
   "source": [
    "print([(k, list(v)) for (k, v) in rdd_4.take(3)])"
   ]
  },
  {
   "cell_type": "code",
   "execution_count": 90,
   "metadata": {},
   "outputs": [
    {
     "name": "stdout",
     "output_type": "stream",
     "text": [
      "ITS :\n",
      "ITS\n",
      "ITS\n",
      "ITS\n",
      "ITS\n",
      "ITS\n",
      "ITS\n",
      "STA :\n",
      "STATES,\n",
      "STAFF\n",
      "STARTED,\n",
      "'CL :\n",
      "'CLUB',\n"
     ]
    }
   ],
   "source": [
    "# to understand structure of returned itterable\n",
    "for (a, b) in rdd_4.take(3):\n",
    "    print(a,':')\n",
    "    for ele in b:\n",
    "        print(ele)"
   ]
  },
  {
   "cell_type": "code",
   "execution_count": 93,
   "metadata": {},
   "outputs": [],
   "source": [
    "rdd_5 = sc.parallelize(range(1,10000))"
   ]
  },
  {
   "cell_type": "code",
   "execution_count": 96,
   "metadata": {},
   "outputs": [
    {
     "data": {
      "text/plain": [
       "49995000"
      ]
     },
     "execution_count": 96,
     "metadata": {},
     "output_type": "execute_result"
    }
   ],
   "source": [
    "rdd_5.reduce(lambda x,y: x+y)"
   ]
  },
  {
   "cell_type": "markdown",
   "metadata": {},
   "source": [
    "### Dataframes"
   ]
  },
  {
   "cell_type": "code",
   "execution_count": 114,
   "metadata": {},
   "outputs": [],
   "source": [
    "df = spark.read.csv('average-monthly-temperatures-acr.csv',inferSchema=True,  header=True)"
   ]
  },
  {
   "cell_type": "code",
   "execution_count": 115,
   "metadata": {},
   "outputs": [
    {
     "data": {
      "text/plain": [
       "DataFrame[Month: string, Temperatures: string]"
      ]
     },
     "execution_count": 115,
     "metadata": {},
     "output_type": "execute_result"
    }
   ],
   "source": [
    "df"
   ]
  },
  {
   "cell_type": "code",
   "execution_count": 116,
   "metadata": {},
   "outputs": [
    {
     "name": "stdout",
     "output_type": "stream",
     "text": [
      "+-------+------------+\n",
      "|  Month|Temperatures|\n",
      "+-------+------------+\n",
      "|1938-04|        15.3|\n",
      "|1938-05|        20.8|\n",
      "|1938-06|        25.1|\n",
      "|1938-07|        27.7|\n",
      "|1938-08|        29.4|\n",
      "|1938-09|        23.1|\n",
      "|1938-10|        20.6|\n",
      "|1938-11|         9.4|\n",
      "|1938-12|         5.4|\n",
      "|1939-01|           7|\n",
      "|1939-02|         3.5|\n",
      "|1939-03|          12|\n",
      "|1939-04|        15.3|\n",
      "|1939-05|        21.9|\n",
      "|1939-06|        25.6|\n",
      "|1939-07|        29.2|\n",
      "|1939-08|        27.9|\n",
      "|1939-09|        26.4|\n",
      "|1939-10|        19.1|\n",
      "|1939-11|         9.6|\n",
      "+-------+------------+\n",
      "only showing top 20 rows\n",
      "\n"
     ]
    }
   ],
   "source": [
    "df.show()"
   ]
  },
  {
   "cell_type": "code",
   "execution_count": 117,
   "metadata": {},
   "outputs": [
    {
     "name": "stdout",
     "output_type": "stream",
     "text": [
      "root\n",
      " |-- Month: string (nullable = true)\n",
      " |-- Temperatures: string (nullable = true)\n",
      "\n"
     ]
    }
   ],
   "source": [
    "df.printSchema()"
   ]
  },
  {
   "cell_type": "code",
   "execution_count": 118,
   "metadata": {},
   "outputs": [
    {
     "data": {
      "text/plain": [
       "878"
      ]
     },
     "execution_count": 118,
     "metadata": {},
     "output_type": "execute_result"
    }
   ],
   "source": [
    "df.count()"
   ]
  },
  {
   "cell_type": "code",
   "execution_count": 119,
   "metadata": {},
   "outputs": [
    {
     "data": {
      "text/plain": [
       "DataFrame[Month: string]"
      ]
     },
     "execution_count": 119,
     "metadata": {},
     "output_type": "execute_result"
    }
   ],
   "source": [
    "df.select('Month')"
   ]
  },
  {
   "cell_type": "code",
   "execution_count": 120,
   "metadata": {},
   "outputs": [
    {
     "name": "stdout",
     "output_type": "stream",
     "text": [
      "+-------+\n",
      "|  Month|\n",
      "+-------+\n",
      "|1938-04|\n",
      "|1938-05|\n",
      "|1938-06|\n",
      "|1938-07|\n",
      "|1938-08|\n",
      "|1938-09|\n",
      "|1938-10|\n",
      "|1938-11|\n",
      "|1938-12|\n",
      "|1939-01|\n",
      "|1939-02|\n",
      "|1939-03|\n",
      "|1939-04|\n",
      "|1939-05|\n",
      "|1939-06|\n",
      "|1939-07|\n",
      "|1939-08|\n",
      "|1939-09|\n",
      "|1939-10|\n",
      "|1939-11|\n",
      "+-------+\n",
      "only showing top 20 rows\n",
      "\n"
     ]
    }
   ],
   "source": [
    "df.select('Month').show()"
   ]
  },
  {
   "cell_type": "code",
   "execution_count": 121,
   "metadata": {},
   "outputs": [
    {
     "data": {
      "text/plain": [
       "DataFrame[summary: string, Month: string]"
      ]
     },
     "execution_count": 121,
     "metadata": {},
     "output_type": "execute_result"
    }
   ],
   "source": [
    "df.describe('Month')"
   ]
  },
  {
   "cell_type": "code",
   "execution_count": 122,
   "metadata": {},
   "outputs": [
    {
     "name": "stdout",
     "output_type": "stream",
     "text": [
      "+-------+-------+\n",
      "|summary|  Month|\n",
      "+-------+-------+\n",
      "|  count|    878|\n",
      "|   mean|   null|\n",
      "| stddev|   null|\n",
      "|    min|1938-04|\n",
      "|    max|2011-05|\n",
      "+-------+-------+\n",
      "\n"
     ]
    }
   ],
   "source": [
    "df.describe('Month').show()"
   ]
  },
  {
   "cell_type": "code",
   "execution_count": 123,
   "metadata": {},
   "outputs": [
    {
     "name": "stdout",
     "output_type": "stream",
     "text": [
      "+-------+------------+\n",
      "|  Month|Temperatures|\n",
      "+-------+------------+\n",
      "|1942-03|          10|\n",
      "+-------+------------+\n",
      "\n"
     ]
    }
   ],
   "source": [
    "df.filter(df.Temperatures=='10').show()"
   ]
  },
  {
   "cell_type": "code",
   "execution_count": 125,
   "metadata": {},
   "outputs": [
    {
     "name": "stdout",
     "output_type": "stream",
     "text": [
      "+-------+------------+\n",
      "|  Month|Temperatures|\n",
      "+-------+------------+\n",
      "|1938-04|        15.3|\n",
      "|1938-05|        20.8|\n",
      "|1938-06|        25.1|\n",
      "|1938-07|        27.7|\n",
      "|1938-08|        29.4|\n",
      "|1938-09|        23.1|\n",
      "|1938-10|        20.6|\n",
      "|1938-11|         9.4|\n",
      "|1938-12|         5.4|\n",
      "+-------+------------+\n",
      "\n"
     ]
    }
   ],
   "source": [
    "df.where(df.Month.startswith('1938')).show()"
   ]
  },
  {
   "cell_type": "code",
   "execution_count": 129,
   "metadata": {},
   "outputs": [
    {
     "name": "stdout",
     "output_type": "stream",
     "text": [
      "+-------+------------+\n",
      "|  Month|Temperatures|\n",
      "+-------+------------+\n",
      "|1938-11|         9.4|\n",
      "+-------+------------+\n",
      "\n"
     ]
    }
   ],
   "source": [
    "df.where( (df.Month.startswith('1938')) & (df.Month.endswith('1')) ).show()"
   ]
  },
  {
   "cell_type": "code",
   "execution_count": 130,
   "metadata": {},
   "outputs": [],
   "source": [
    "# creating temporary table to perform sql queries on it\n",
    "df.registerTempTable('TemperaturesTable')"
   ]
  },
  {
   "cell_type": "code",
   "execution_count": 131,
   "metadata": {},
   "outputs": [
    {
     "name": "stdout",
     "output_type": "stream",
     "text": [
      "+-------+------------+\n",
      "|  Month|Temperatures|\n",
      "+-------+------------+\n",
      "|1938-04|        15.3|\n",
      "|1938-05|        20.8|\n",
      "|1938-06|        25.1|\n",
      "|1938-07|        27.7|\n",
      "|1938-08|        29.4|\n",
      "|1938-09|        23.1|\n",
      "|1938-10|        20.6|\n",
      "|1938-11|         9.4|\n",
      "|1938-12|         5.4|\n",
      "|1939-01|           7|\n",
      "|1939-02|         3.5|\n",
      "|1939-03|          12|\n",
      "|1939-04|        15.3|\n",
      "|1939-05|        21.9|\n",
      "|1939-06|        25.6|\n",
      "|1939-07|        29.2|\n",
      "|1939-08|        27.9|\n",
      "|1939-09|        26.4|\n",
      "|1939-10|        19.1|\n",
      "|1939-11|         9.6|\n",
      "+-------+------------+\n",
      "only showing top 20 rows\n",
      "\n"
     ]
    }
   ],
   "source": [
    "sqlContext.sql('select * from TemperaturesTable').show()"
   ]
  },
  {
   "cell_type": "code",
   "execution_count": 134,
   "metadata": {},
   "outputs": [
    {
     "name": "stdout",
     "output_type": "stream",
     "text": [
      "+-----------------+\n",
      "|min(Temperatures)|\n",
      "+-----------------+\n",
      "|              0.2|\n",
      "+-----------------+\n",
      "\n"
     ]
    }
   ],
   "source": [
    "sqlContext.sql('select min(Temperatures) from TemperaturesTable').show()"
   ]
  },
  {
   "cell_type": "code",
   "execution_count": 135,
   "metadata": {},
   "outputs": [
    {
     "name": "stdout",
     "output_type": "stream",
     "text": [
      "+-------+------------+\n",
      "|  Month|Temperatures|\n",
      "+-------+------------+\n",
      "|1962-01|         0.2|\n",
      "+-------+------------+\n",
      "\n"
     ]
    }
   ],
   "source": [
    "sqlContext.sql('select * from TemperaturesTable where Temperatures IN (select min(Temperatures) from TemperaturesTable)').show()"
   ]
  },
  {
   "cell_type": "markdown",
   "metadata": {},
   "source": [
    "### StorageLevel"
   ]
  },
  {
   "cell_type": "markdown",
   "metadata": {},
   "source": [
    "This class helps us decide how the RDDs should be stored.\n",
    "1. Disk\n",
    "2. Memory\n",
    "3. Both"
   ]
  },
  {
   "cell_type": "markdown",
   "metadata": {},
   "source": [
    "It also decides whether the RDDs should be \n",
    "1. Serialized \n",
    "2. Replicated (Replicate it's partition)"
   ]
  },
  {
   "cell_type": "markdown",
   "metadata": {},
   "source": [
    "### MLib"
   ]
  },
  {
   "cell_type": "markdown",
   "metadata": {},
   "source": [
    "ML API provided by spark."
   ]
  },
  {
   "cell_type": "code",
   "execution_count": 136,
   "metadata": {},
   "outputs": [],
   "source": [
    " from pyspark import SparkContext, SparkConf"
   ]
  },
  {
   "cell_type": "code",
   "execution_count": 138,
   "metadata": {},
   "outputs": [],
   "source": [
    "conf = SparkConf().setMaster('local[*]').setAppName('heart-disease-prediction-using-decision-tree')"
   ]
  },
  {
   "cell_type": "code",
   "execution_count": 139,
   "metadata": {},
   "outputs": [],
   "source": [
    "import pandas as pd\n",
    "import numpy as np"
   ]
  },
  {
   "cell_type": "code",
   "execution_count": null,
   "metadata": {},
   "outputs": [],
   "source": []
  }
 ],
 "metadata": {
  "kernelspec": {
   "display_name": "Python 3",
   "language": "python",
   "name": "python3"
  },
  "language_info": {
   "codemirror_mode": {
    "name": "ipython",
    "version": 3
   },
   "file_extension": ".py",
   "mimetype": "text/x-python",
   "name": "python",
   "nbconvert_exporter": "python",
   "pygments_lexer": "ipython3",
   "version": "3.6.7"
  }
 },
 "nbformat": 4,
 "nbformat_minor": 2
}
